{
    "cells": [
        {
            "cell_type": "markdown",
            "metadata": {},
            "source": "# Final Report"
        },
        {
            "cell_type": "markdown",
            "metadata": {},
            "source": "## Capstone Project - The Battle of Neighborhoods"
        },
        {
            "cell_type": "markdown",
            "metadata": {},
            "source": "### Introduction"
        },
        {
            "cell_type": "markdown",
            "metadata": {},
            "source": "There are enough restaurants in Toronto that it could easily take someone two lifetimes just to sameple each one. When I visisted the city for the first time, I was simultaneously blown away at the amounnt of food not normally found in Texas and at the lack of one of our staples: Mexican food. Given Asian and Mexican dishes contain similar taste profiles and ingredients, I believe this may be an opportunity to identify and capitalize on a gap in the market. Foursquare data is an excellent starting point for this solving this problem as it can plot the current availability of Mexican food on a map. This analysis would aid in an entrepreneur's mission to gauge demand and identify \"under-served\" locations regarding Mexican cuisine in Toronto. Ideally, the location provided from this analysis would be a sound recommendation as to where this entrepreneur could build a successful brick-and-mortar business."
        },
        {
            "cell_type": "markdown",
            "metadata": {},
            "source": "### Business Problem"
        },
        {
            "cell_type": "markdown",
            "metadata": {},
            "source": "The objective of this Capstone is to recommend a definitive location for a Mexican restaurant in Toronto. This recommendation will be proposed based on existing demand for the cuisine and location data. Utimately, data science methods such as k-means clustering will be implemented to answer the following question: What does the current demand for Mexican food in Toronto look like and where would an entrepreneur build the next Mexican restaurant? "
        },
        {
            "cell_type": "code",
            "execution_count": null,
            "metadata": {},
            "outputs": [],
            "source": ""
        }
    ],
    "metadata": {
        "kernelspec": {
            "display_name": "Python 3.6",
            "language": "python",
            "name": "python3"
        },
        "language_info": {
            "codemirror_mode": {
                "name": "ipython",
                "version": 3
            },
            "file_extension": ".py",
            "mimetype": "text/x-python",
            "name": "python",
            "nbconvert_exporter": "python",
            "pygments_lexer": "ipython3",
            "version": "3.6.9"
        }
    },
    "nbformat": 4,
    "nbformat_minor": 1
}